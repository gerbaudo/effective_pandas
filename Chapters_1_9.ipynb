{
  "nbformat": 4,
  "nbformat_minor": 0,
  "metadata": {
    "colab": {
      "provenance": [],
      "authorship_tag": "ABX9TyMvcxEYUK//dt7V/JK0D56n",
      "include_colab_link": true
    },
    "kernelspec": {
      "name": "python3",
      "display_name": "Python 3"
    },
    "language_info": {
      "name": "python"
    }
  },
  "cells": [
    {
      "cell_type": "markdown",
      "metadata": {
        "id": "view-in-github",
        "colab_type": "text"
      },
      "source": [
        "<a href=\"https://colab.research.google.com/github/gerbaudo/effective_pandas/blob/main/Chapters_1_9.ipynb\" target=\"_parent\"><img src=\"https://colab.research.google.com/assets/colab-badge.svg\" alt=\"Open In Colab\"/></a>"
      ]
    },
    {
      "cell_type": "markdown",
      "source": [
        "# Chapter 2\n"
      ],
      "metadata": {
        "id": "FKjQyGwNaMTL"
      }
    },
    {
      "cell_type": "code",
      "execution_count": 1,
      "metadata": {
        "colab": {
          "base_uri": "https://localhost:8080/"
        },
        "id": "qnq8LS-pillX",
        "outputId": "def4cdbd-9204-447d-a4d5-bd2140cd3c54"
      },
      "outputs": [
        {
          "output_type": "stream",
          "name": "stdout",
          "text": [
            "\n",
            "INSTALLED VERSIONS\n",
            "------------------\n",
            "commit           : 66e3805b8cabe977f40c05259cc3fcf7ead5687d\n",
            "python           : 3.7.15.final.0\n",
            "python-bits      : 64\n",
            "OS               : Linux\n",
            "OS-release       : 5.10.133+\n",
            "Version          : #1 SMP Fri Aug 26 08:44:51 UTC 2022\n",
            "machine          : x86_64\n",
            "processor        : x86_64\n",
            "byteorder        : little\n",
            "LC_ALL           : None\n",
            "LANG             : en_US.UTF-8\n",
            "LOCALE           : en_US.UTF-8\n",
            "\n",
            "pandas           : 1.3.5\n",
            "numpy            : 1.21.6\n",
            "pytz             : 2022.6\n",
            "dateutil         : 2.8.2\n",
            "pip              : 21.1.3\n",
            "setuptools       : 57.4.0\n",
            "Cython           : 0.29.32\n",
            "pytest           : 3.6.4\n",
            "hypothesis       : None\n",
            "sphinx           : 1.8.6\n",
            "blosc            : None\n",
            "feather          : 0.4.1\n",
            "xlsxwriter       : None\n",
            "lxml.etree       : 4.9.1\n",
            "html5lib         : 1.0.1\n",
            "pymysql          : None\n",
            "psycopg2         : 2.9.5 (dt dec pq3 ext lo64)\n",
            "jinja2           : 2.11.3\n",
            "IPython          : 7.9.0\n",
            "pandas_datareader: 0.9.0\n",
            "bs4              : 4.6.3\n",
            "bottleneck       : None\n",
            "fsspec           : 2022.10.0\n",
            "fastparquet      : None\n",
            "gcsfs            : None\n",
            "matplotlib       : 3.2.2\n",
            "numexpr          : 2.8.4\n",
            "odfpy            : None\n",
            "openpyxl         : 3.0.10\n",
            "pandas_gbq       : 0.17.9\n",
            "pyarrow          : 6.0.1\n",
            "pyxlsb           : None\n",
            "s3fs             : None\n",
            "scipy            : 1.7.3\n",
            "sqlalchemy       : 1.4.43\n",
            "tables           : 3.7.0\n",
            "tabulate         : 0.8.10\n",
            "xarray           : 0.20.2\n",
            "xlrd             : 1.1.0\n",
            "xlwt             : 1.3.0\n",
            "numba            : 0.56.4\n"
          ]
        }
      ],
      "source": [
        "import pandas as pd\n",
        "pd.show_versions()"
      ]
    },
    {
      "cell_type": "markdown",
      "source": [
        "# Chapter 4"
      ],
      "metadata": {
        "id": "GX4fiVcmbKdw"
      }
    },
    {
      "cell_type": "markdown",
      "source": [
        "Create a series with the temperatures from the last seven days. Filter our the values below the mean."
      ],
      "metadata": {
        "id": "Bi_CWkuhbqoF"
      }
    },
    {
      "cell_type": "code",
      "source": [
        "temps = pd.Series([3.15, 1.9, 2.85, 0.25, 1.2, -0.95, -3.1],\n",
        "                  name='temperatures')\n",
        "temps[temps > temps.mean()]"
      ],
      "metadata": {
        "colab": {
          "base_uri": "https://localhost:8080/"
        },
        "id": "iKZ7BMmObO-r",
        "outputId": "89bcf293-8f06-4003-aa9e-549d1b1654dd"
      },
      "execution_count": 5,
      "outputs": [
        {
          "output_type": "execute_result",
          "data": {
            "text/plain": [
              "0    3.15\n",
              "1    1.90\n",
              "2    2.85\n",
              "4    1.20\n",
              "Name: temperatures, dtype: float64"
            ]
          },
          "metadata": {},
          "execution_count": 5
        }
      ]
    },
    {
      "cell_type": "markdown",
      "source": [
        "Create a series with your favorite colors. Use the categorical type."
      ],
      "metadata": {
        "id": "6Y-RcWh5c-m6"
      }
    },
    {
      "cell_type": "code",
      "source": [
        "my_cols = pd.Series(data=['r', 'g', 'b'], dtype='category')\n",
        "my_cols"
      ],
      "metadata": {
        "colab": {
          "base_uri": "https://localhost:8080/"
        },
        "id": "HMJgCNbkc97y",
        "outputId": "7b3a6ebc-6593-41d4-af2a-ba18e53e8458"
      },
      "execution_count": 11,
      "outputs": [
        {
          "output_type": "execute_result",
          "data": {
            "text/plain": [
              "0    r\n",
              "1    g\n",
              "2    b\n",
              "dtype: category\n",
              "Categories (3, object): ['b', 'g', 'r']"
            ]
          },
          "metadata": {},
          "execution_count": 11
        }
      ]
    },
    {
      "cell_type": "markdown",
      "source": [
        "# Chapter 5: Series deep dive\n",
        "1. Explore the documentation for five attributes of a series from Jupyter\n",
        "2. How many attributes are found on the `.str` attribute? Loot at the\n",
        "documentation for three of them.\n",
        "3. How many attributes are found on the `.dt` attribute? Look at the\n",
        "documentation for three of them."
      ],
      "metadata": {
        "id": "iszwnHFcd1gV"
      }
    },
    {
      "cell_type": "code",
      "source": [
        "import random\n",
        "import numpy as np\n",
        "\n",
        "def not_dunder(lst: list) -> list:\n",
        "  'from a list of attributes remove the dunder ones'\n",
        "  return [ _ for _ in lst if not _.startswith('_')]\n",
        "print('5 series attributes: ', random.sample(not_dunder(dir(my_cols)), 5))\n",
        "print('3 series.str attributes: ',random.sample(not_dunder(dir(my_cols.str)), 3))\n",
        "\n",
        "# the dt attributes can be accessed only from datetime series\n",
        "dts = pd.Series(data=[], dtype='datetime64[ns]')\n",
        "print('3 series.dt attributes: ', random.sample(not_dunder(dir(dts.dt)), 3))"
      ],
      "metadata": {
        "colab": {
          "base_uri": "https://localhost:8080/"
        },
        "id": "KLUbLR8OeLzJ",
        "outputId": "208567a5-4d8d-438e-d1e3-003a218f557a"
      },
      "execution_count": 29,
      "outputs": [
        {
          "output_type": "stream",
          "name": "stdout",
          "text": [
            "5 series attributes:  ['iteritems', 'hasnans', 'median', 'to_clipboard', 'argsort']\n",
            "3 series.str attributes:  ['isupper', 'contains', 'lstrip']\n",
            "3 series.dt attributes:  ['second', 'to_period', 'dayofyear']\n"
          ]
        }
      ]
    },
    {
      "cell_type": "markdown",
      "source": [
        "# Chapter 6: Operators (& dunder methods)\n",
        "1. Add a numeric series to itself\n",
        "2. Add 10 to a numeric series\n",
        "3. Add a numeric series to itself using the `.add` method\n",
        "4. Read the documentation for the `.add` method"
      ],
      "metadata": {
        "id": "xqtgy342j7pb"
      }
    },
    {
      "cell_type": "code",
      "source": [
        "url = 'https://github.com/mattharrison/datasets/raw/master/data/vehicles.csv.zip'\n",
        "df = pd.read_csv(url)\n",
        "city_mpg = df.city08"
      ],
      "metadata": {
        "colab": {
          "base_uri": "https://localhost:8080/"
        },
        "id": "OAKtpP0YkUUU",
        "outputId": "804df4aa-2b67-423d-d67f-bb63c55c67cd"
      },
      "execution_count": 30,
      "outputs": [
        {
          "output_type": "stream",
          "name": "stderr",
          "text": [
            "/usr/local/lib/python3.7/dist-packages/IPython/core/interactiveshell.py:3326: DtypeWarning: Columns (68,70,71,72,73,74,76,79) have mixed types.Specify dtype option on import or set low_memory=False.\n",
            "  exec(code_obj, self.user_global_ns, self.user_ns)\n"
          ]
        }
      ]
    },
    {
      "cell_type": "code",
      "source": [
        "city_mpg + city_mpg"
      ],
      "metadata": {
        "colab": {
          "base_uri": "https://localhost:8080/"
        },
        "id": "hNX2A0R0k39-",
        "outputId": "1293693d-c572-487f-dce4-a549d0e524a7"
      },
      "execution_count": 32,
      "outputs": [
        {
          "output_type": "execute_result",
          "data": {
            "text/plain": [
              "0        38\n",
              "1        18\n",
              "2        46\n",
              "3        20\n",
              "4        34\n",
              "         ..\n",
              "41139    38\n",
              "41140    40\n",
              "41141    36\n",
              "41142    36\n",
              "41143    32\n",
              "Name: city08, Length: 41144, dtype: int64"
            ]
          },
          "metadata": {},
          "execution_count": 32
        }
      ]
    },
    {
      "cell_type": "code",
      "source": [
        "city_mpg+10"
      ],
      "metadata": {
        "colab": {
          "base_uri": "https://localhost:8080/"
        },
        "id": "KQ_VoRV3lBTz",
        "outputId": "996cdce3-4bef-4648-cc68-858221bca8d6"
      },
      "execution_count": 33,
      "outputs": [
        {
          "output_type": "execute_result",
          "data": {
            "text/plain": [
              "0        29\n",
              "1        19\n",
              "2        33\n",
              "3        20\n",
              "4        27\n",
              "         ..\n",
              "41139    29\n",
              "41140    30\n",
              "41141    28\n",
              "41142    28\n",
              "41143    26\n",
              "Name: city08, Length: 41144, dtype: int64"
            ]
          },
          "metadata": {},
          "execution_count": 33
        }
      ]
    },
    {
      "cell_type": "code",
      "source": [
        "city_mpg.add(city_mpg)"
      ],
      "metadata": {
        "colab": {
          "base_uri": "https://localhost:8080/"
        },
        "id": "zUIDTG1zlFfY",
        "outputId": "3d6f24ba-edd1-4256-ec35-2f6ccffc0a95"
      },
      "execution_count": 34,
      "outputs": [
        {
          "output_type": "execute_result",
          "data": {
            "text/plain": [
              "0        38\n",
              "1        18\n",
              "2        46\n",
              "3        20\n",
              "4        34\n",
              "         ..\n",
              "41139    38\n",
              "41140    40\n",
              "41141    36\n",
              "41142    36\n",
              "41143    32\n",
              "Name: city08, Length: 41144, dtype: int64"
            ]
          },
          "metadata": {},
          "execution_count": 34
        }
      ]
    },
    {
      "cell_type": "code",
      "source": [
        "city_mpg.add?"
      ],
      "metadata": {
        "id": "iMS1enDYlNBZ"
      },
      "execution_count": 35,
      "outputs": []
    },
    {
      "cell_type": "markdown",
      "source": [
        "# Chapter 7: Aggregate methods\n",
        "\n",
        "1. find the count of non-missing values of a series\n",
        "2. find the number of entries of a series\n",
        "3. find the number of unique entries of a series\n",
        "4. find the mean value of a series\n",
        "5. find the maximum value of a series\n",
        "6. use the `.agg` method to find all of the above"
      ],
      "metadata": {
        "id": "k4w_-B4jldig"
      }
    },
    {
      "cell_type": "code",
      "source": [
        "df.info()"
      ],
      "metadata": {
        "colab": {
          "base_uri": "https://localhost:8080/"
        },
        "id": "ozHBX15zl7V3",
        "outputId": "549428fe-22ac-41b2-b543-d1ace4c50264"
      },
      "execution_count": 36,
      "outputs": [
        {
          "output_type": "stream",
          "name": "stdout",
          "text": [
            "<class 'pandas.core.frame.DataFrame'>\n",
            "RangeIndex: 41144 entries, 0 to 41143\n",
            "Data columns (total 83 columns):\n",
            " #   Column           Non-Null Count  Dtype  \n",
            "---  ------           --------------  -----  \n",
            " 0   barrels08        41144 non-null  float64\n",
            " 1   barrelsA08       41144 non-null  float64\n",
            " 2   charge120        41144 non-null  float64\n",
            " 3   charge240        41144 non-null  float64\n",
            " 4   city08           41144 non-null  int64  \n",
            " 5   city08U          41144 non-null  float64\n",
            " 6   cityA08          41144 non-null  int64  \n",
            " 7   cityA08U         41144 non-null  float64\n",
            " 8   cityCD           41144 non-null  float64\n",
            " 9   cityE            41144 non-null  float64\n",
            " 10  cityUF           41144 non-null  float64\n",
            " 11  co2              41144 non-null  int64  \n",
            " 12  co2A             41144 non-null  int64  \n",
            " 13  co2TailpipeAGpm  41144 non-null  float64\n",
            " 14  co2TailpipeGpm   41144 non-null  float64\n",
            " 15  comb08           41144 non-null  int64  \n",
            " 16  comb08U          41144 non-null  float64\n",
            " 17  combA08          41144 non-null  int64  \n",
            " 18  combA08U         41144 non-null  float64\n",
            " 19  combE            41144 non-null  float64\n",
            " 20  combinedCD       41144 non-null  float64\n",
            " 21  combinedUF       41144 non-null  float64\n",
            " 22  cylinders        40938 non-null  float64\n",
            " 23  displ            40940 non-null  float64\n",
            " 24  drive            39955 non-null  object \n",
            " 25  engId            41144 non-null  int64  \n",
            " 26  eng_dscr         24991 non-null  object \n",
            " 27  feScore          41144 non-null  int64  \n",
            " 28  fuelCost08       41144 non-null  int64  \n",
            " 29  fuelCostA08      41144 non-null  int64  \n",
            " 30  fuelType         41144 non-null  object \n",
            " 31  fuelType1        41144 non-null  object \n",
            " 32  ghgScore         41144 non-null  int64  \n",
            " 33  ghgScoreA        41144 non-null  int64  \n",
            " 34  highway08        41144 non-null  int64  \n",
            " 35  highway08U       41144 non-null  float64\n",
            " 36  highwayA08       41144 non-null  int64  \n",
            " 37  highwayA08U      41144 non-null  float64\n",
            " 38  highwayCD        41144 non-null  float64\n",
            " 39  highwayE         41144 non-null  float64\n",
            " 40  highwayUF        41144 non-null  float64\n",
            " 41  hlv              41144 non-null  int64  \n",
            " 42  hpv              41144 non-null  int64  \n",
            " 43  id               41144 non-null  int64  \n",
            " 44  lv2              41144 non-null  int64  \n",
            " 45  lv4              41144 non-null  int64  \n",
            " 46  make             41144 non-null  object \n",
            " 47  model            41144 non-null  object \n",
            " 48  mpgData          41144 non-null  object \n",
            " 49  phevBlended      41144 non-null  bool   \n",
            " 50  pv2              41144 non-null  int64  \n",
            " 51  pv4              41144 non-null  int64  \n",
            " 52  range            41144 non-null  int64  \n",
            " 53  rangeCity        41144 non-null  float64\n",
            " 54  rangeCityA       41144 non-null  float64\n",
            " 55  rangeHwy         41144 non-null  float64\n",
            " 56  rangeHwyA        41144 non-null  float64\n",
            " 57  trany            41133 non-null  object \n",
            " 58  UCity            41144 non-null  float64\n",
            " 59  UCityA           41144 non-null  float64\n",
            " 60  UHighway         41144 non-null  float64\n",
            " 61  UHighwayA        41144 non-null  float64\n",
            " 62  VClass           41144 non-null  object \n",
            " 63  year             41144 non-null  int64  \n",
            " 64  youSaveSpend     41144 non-null  int64  \n",
            " 65  guzzler          2423 non-null   object \n",
            " 66  trans_dscr       15047 non-null  object \n",
            " 67  tCharger         6872 non-null   object \n",
            " 68  sCharger         840 non-null    object \n",
            " 69  atvType          3560 non-null   object \n",
            " 70  fuelType2        1606 non-null   object \n",
            " 71  rangeA           1601 non-null   object \n",
            " 72  evMotor          852 non-null    object \n",
            " 73  mfrCode          10326 non-null  object \n",
            " 74  c240Dscr         81 non-null     object \n",
            " 75  charge240b       41144 non-null  float64\n",
            " 76  c240bDscr        79 non-null     object \n",
            " 77  createdOn        41144 non-null  object \n",
            " 78  modifiedOn       41144 non-null  object \n",
            " 79  startStop        9440 non-null   object \n",
            " 80  phevCity         41144 non-null  int64  \n",
            " 81  phevHwy          41144 non-null  int64  \n",
            " 82  phevComb         41144 non-null  int64  \n",
            "dtypes: bool(1), float64(32), int64(27), object(23)\n",
            "memory usage: 25.8+ MB\n"
          ]
        }
      ]
    },
    {
      "cell_type": "code",
      "source": [
        "print(f'Count of non-missing values for city08: {df.city08.count()},'\n",
        "f' out of {df.city08.size}')\n",
        "print(f'Count of non-missing values for sCharger: {df.sCharger.count()},'\n",
        "f' out of {df.sCharger.size}')"
      ],
      "metadata": {
        "colab": {
          "base_uri": "https://localhost:8080/"
        },
        "id": "ipX7hgI7mf1T",
        "outputId": "3bc461b0-840d-4584-b8b8-59f8cc8baefc"
      },
      "execution_count": 42,
      "outputs": [
        {
          "output_type": "stream",
          "name": "stdout",
          "text": [
            "Count of non-missing values for city08: 41144, out of 41144\n",
            "Count of non-missing values for sCharger: 840, out of 41144\n"
          ]
        }
      ]
    },
    {
      "cell_type": "code",
      "source": [
        "print(f'Number of unique entries for cylinders: {df.cylinders.nunique()}')"
      ],
      "metadata": {
        "colab": {
          "base_uri": "https://localhost:8080/"
        },
        "id": "-GwEBzwinWTS",
        "outputId": "756b5805-a19e-4e51-b873-230b1737f89a"
      },
      "execution_count": 44,
      "outputs": [
        {
          "output_type": "stream",
          "name": "stdout",
          "text": [
            "Number of unique entries for cylinders: 9\n"
          ]
        }
      ]
    },
    {
      "cell_type": "code",
      "source": [
        "print(f'Mean city08: {df.city08.mean()}')\n",
        "print(f'Max city08: {df.city08.max()}')"
      ],
      "metadata": {
        "colab": {
          "base_uri": "https://localhost:8080/"
        },
        "id": "PUgsnVpUn8Lk",
        "outputId": "cd6767db-3bc6-4272-ed60-f69aac2a69d9"
      },
      "execution_count": 46,
      "outputs": [
        {
          "output_type": "stream",
          "name": "stdout",
          "text": [
            "Mean city08: 18.369045304297103\n",
            "Max city08: 150\n"
          ]
        }
      ]
    },
    {
      "cell_type": "code",
      "source": [
        "df.city08.agg(['empty', 'count', 'size', 'nunique', 'mean', max])"
      ],
      "metadata": {
        "colab": {
          "base_uri": "https://localhost:8080/"
        },
        "id": "HyjVtNDxoWGB",
        "outputId": "0c680bbc-bcd1-40eb-c9c0-e6dff7ac129c"
      },
      "execution_count": 52,
      "outputs": [
        {
          "output_type": "execute_result",
          "data": {
            "text/plain": [
              "empty          False\n",
              "count          41144\n",
              "size           41144\n",
              "nunique          105\n",
              "mean       18.369045\n",
              "max              150\n",
              "Name: city08, dtype: object"
            ]
          },
          "metadata": {},
          "execution_count": 52
        }
      ]
    }
  ]
}